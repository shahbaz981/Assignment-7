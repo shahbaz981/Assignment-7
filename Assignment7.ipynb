{
 "cells": [
  {
   "cell_type": "code",
   "execution_count": 8,
   "id": "974350f3-0622-4f3c-92bf-46d843cdd240",
   "metadata": {},
   "outputs": [
    {
     "name": "stdout",
     "output_type": "stream",
     "text": [
      "Product of all numeric values: 0\n"
     ]
    }
   ],
   "source": [
    "'''[Q1-answer:-]'''\n",
    "\n",
    "'''\n",
    "Create a function which will take a list as an argument and return the product of all the numbers\n",
    "after creating a flat list. Use the below-given list as an argument for your function.\n",
    "list1 = [1,2,3,4, [44,55,66, True], False, (34,56,78,89,34), {1,2,3,3,2,1}, {1:34, \"key2\": [55, 67, 78, 89], 4: (45,22, 61, 34)}, [56, 'data science'], 'Machine Learning']\n",
    "'''\n",
    "\n",
    "def product_of_numeric_values(lst):\n",
    "    # Create a function to recursively flatten the list\n",
    "    def flatten(lst):\n",
    "        flat_list = []\n",
    "        for item in lst:\n",
    "            if isinstance(item, (int, float)):\n",
    "                flat_list.append(item)\n",
    "            elif isinstance(item, list):\n",
    "                flat_list.extend(flatten(item))\n",
    "            elif isinstance(item, dict):\n",
    "                flat_list.extend(flatten(item.values()))\n",
    "        return flat_list\n",
    "\n",
    "    # Flatten the input list\n",
    "    flattened_list = flatten(lst)\n",
    "\n",
    "    # Calculate the product of all numeric values\n",
    "    product = 1\n",
    "    for num in flattened_list:\n",
    "        product *= num\n",
    "\n",
    "    return product\n",
    "\n",
    "# Test the function with the given list\n",
    "list1 = [1, 2, 3, 4, [44, 55, 66, True], False, (34, 56, 78, 89, 34), {1, 2, 3, 3, 2, 1}, {1: 34, \"key2\": [55, 67, 78, 89], 4: (45, 22, 61, 34)}, [56, 'data science'], 'Machine Learning']\n",
    "result = product_of_numeric_values(list1)\n",
    "print(\"Product of all numeric values:\", result)\n"
   ]
  },
  {
   "cell_type": "code",
   "execution_count": 2,
   "id": "216dd641-982a-4d55-93a2-7563dc941dfd",
   "metadata": {},
   "outputs": [
    {
     "name": "stdin",
     "output_type": "stream",
     "text": [
      "enter the message : what do you want to become? what is your name\n"
     ]
    },
    {
     "name": "stdout",
     "output_type": "stream",
     "text": [
      "whzt$do$you$wznt$to$yexome?$whzt$is$your$nzme\n"
     ]
    }
   ],
   "source": [
    "'''[Q2-answer:-]'''\n",
    "\n",
    "'''\n",
    "Write a python program for encrypting a message sent to you by your friend. The logic of encryption\n",
    "should be such that, for a the output should be z. For b, the output should be y. For c, the output should\n",
    "be x respectively. Also, the whitespace should be replaced with a dollar sign. Keep the punctuation\n",
    "marks unchanged.\n",
    "Input Sentence: I want to become a Data Scientist.\n",
    "'''\n",
    "\n",
    "sentence = input(\"enter the message :\")\n",
    "encrypt_message = ''\n",
    "for i in sentence:\n",
    "    if i == 'a':\n",
    "        encrypt_message+=i.replace('a','z')\n",
    "    elif i == 'b':\n",
    "         encrypt_message+=i.replace('b','y')\n",
    "    elif i == 'c':\n",
    "         encrypt_message+=i.replace('c','x')\n",
    "    elif i == ' ':\n",
    "          encrypt_message+=i.replace(' ','$')\n",
    "    else:\n",
    "         encrypt_message+=i\n",
    "print(encrypt_message)"
   ]
  }
 ],
 "metadata": {
  "kernelspec": {
   "display_name": "Python 3 (ipykernel)",
   "language": "python",
   "name": "python3"
  },
  "language_info": {
   "codemirror_mode": {
    "name": "ipython",
    "version": 3
   },
   "file_extension": ".py",
   "mimetype": "text/x-python",
   "name": "python",
   "nbconvert_exporter": "python",
   "pygments_lexer": "ipython3",
   "version": "3.10.8"
  }
 },
 "nbformat": 4,
 "nbformat_minor": 5
}
